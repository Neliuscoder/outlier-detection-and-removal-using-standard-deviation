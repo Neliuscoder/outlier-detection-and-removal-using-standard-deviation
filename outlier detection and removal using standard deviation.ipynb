{
 "cells": [
  {
   "cell_type": "code",
   "execution_count": 4,
   "id": "366b62fe",
   "metadata": {},
   "outputs": [],
   "source": [
    "import pandas as pd \n",
    "import matplotlib\n",
    "import matplotlib.pyplot as plt\n",
    "%matplotlib inline\n",
    "matplotlib.rcParams[\"figure.figsize\"] = (10,6)\n"
   ]
  },
  {
   "cell_type": "code",
   "execution_count": 6,
   "id": "af218f44",
   "metadata": {},
   "outputs": [
    {
     "data": {
      "text/html": [
       "<div>\n",
       "<style scoped>\n",
       "    .dataframe tbody tr th:only-of-type {\n",
       "        vertical-align: middle;\n",
       "    }\n",
       "\n",
       "    .dataframe tbody tr th {\n",
       "        vertical-align: top;\n",
       "    }\n",
       "\n",
       "    .dataframe thead th {\n",
       "        text-align: right;\n",
       "    }\n",
       "</style>\n",
       "<table border=\"1\" class=\"dataframe\">\n",
       "  <thead>\n",
       "    <tr style=\"text-align: right;\">\n",
       "      <th></th>\n",
       "      <th>longitude</th>\n",
       "      <th>latitude</th>\n",
       "      <th>housing_median_age</th>\n",
       "      <th>total_rooms</th>\n",
       "      <th>total_bedrooms</th>\n",
       "      <th>population</th>\n",
       "      <th>households</th>\n",
       "      <th>median_income</th>\n",
       "      <th>median_house_value</th>\n",
       "      <th>ocean_proximity</th>\n",
       "    </tr>\n",
       "  </thead>\n",
       "  <tbody>\n",
       "    <tr>\n",
       "      <th>13179</th>\n",
       "      <td>-117.76</td>\n",
       "      <td>33.98</td>\n",
       "      <td>3.0</td>\n",
       "      <td>9662.0</td>\n",
       "      <td>1385.0</td>\n",
       "      <td>2497.0</td>\n",
       "      <td>856.0</td>\n",
       "      <td>6.7172</td>\n",
       "      <td>292400.0</td>\n",
       "      <td>&lt;1H OCEAN</td>\n",
       "    </tr>\n",
       "    <tr>\n",
       "      <th>6862</th>\n",
       "      <td>-118.14</td>\n",
       "      <td>34.06</td>\n",
       "      <td>27.0</td>\n",
       "      <td>5257.0</td>\n",
       "      <td>1082.0</td>\n",
       "      <td>3496.0</td>\n",
       "      <td>1036.0</td>\n",
       "      <td>3.3906</td>\n",
       "      <td>237200.0</td>\n",
       "      <td>&lt;1H OCEAN</td>\n",
       "    </tr>\n",
       "    <tr>\n",
       "      <th>8802</th>\n",
       "      <td>-118.38</td>\n",
       "      <td>33.79</td>\n",
       "      <td>32.0</td>\n",
       "      <td>10445.0</td>\n",
       "      <td>1620.0</td>\n",
       "      <td>4474.0</td>\n",
       "      <td>1576.0</td>\n",
       "      <td>7.7042</td>\n",
       "      <td>500001.0</td>\n",
       "      <td>NEAR OCEAN</td>\n",
       "    </tr>\n",
       "    <tr>\n",
       "      <th>1439</th>\n",
       "      <td>-122.01</td>\n",
       "      <td>37.97</td>\n",
       "      <td>32.0</td>\n",
       "      <td>3012.0</td>\n",
       "      <td>527.0</td>\n",
       "      <td>1288.0</td>\n",
       "      <td>512.0</td>\n",
       "      <td>3.6449</td>\n",
       "      <td>211500.0</td>\n",
       "      <td>NEAR BAY</td>\n",
       "    </tr>\n",
       "    <tr>\n",
       "      <th>4934</th>\n",
       "      <td>-118.27</td>\n",
       "      <td>34.00</td>\n",
       "      <td>40.0</td>\n",
       "      <td>2099.0</td>\n",
       "      <td>599.0</td>\n",
       "      <td>2311.0</td>\n",
       "      <td>529.0</td>\n",
       "      <td>1.8520</td>\n",
       "      <td>101500.0</td>\n",
       "      <td>&lt;1H OCEAN</td>\n",
       "    </tr>\n",
       "    <tr>\n",
       "      <th>6788</th>\n",
       "      <td>-118.15</td>\n",
       "      <td>34.09</td>\n",
       "      <td>52.0</td>\n",
       "      <td>2203.0</td>\n",
       "      <td>430.0</td>\n",
       "      <td>1238.0</td>\n",
       "      <td>403.0</td>\n",
       "      <td>4.4306</td>\n",
       "      <td>225800.0</td>\n",
       "      <td>&lt;1H OCEAN</td>\n",
       "    </tr>\n",
       "    <tr>\n",
       "      <th>16990</th>\n",
       "      <td>-122.27</td>\n",
       "      <td>37.55</td>\n",
       "      <td>15.0</td>\n",
       "      <td>1958.0</td>\n",
       "      <td>282.0</td>\n",
       "      <td>811.0</td>\n",
       "      <td>284.0</td>\n",
       "      <td>8.1221</td>\n",
       "      <td>483300.0</td>\n",
       "      <td>NEAR BAY</td>\n",
       "    </tr>\n",
       "    <tr>\n",
       "      <th>20358</th>\n",
       "      <td>-118.95</td>\n",
       "      <td>34.18</td>\n",
       "      <td>25.0</td>\n",
       "      <td>2237.0</td>\n",
       "      <td>331.0</td>\n",
       "      <td>1121.0</td>\n",
       "      <td>365.0</td>\n",
       "      <td>6.0994</td>\n",
       "      <td>254900.0</td>\n",
       "      <td>&lt;1H OCEAN</td>\n",
       "    </tr>\n",
       "    <tr>\n",
       "      <th>15079</th>\n",
       "      <td>-116.97</td>\n",
       "      <td>32.81</td>\n",
       "      <td>19.0</td>\n",
       "      <td>1573.0</td>\n",
       "      <td>471.0</td>\n",
       "      <td>844.0</td>\n",
       "      <td>414.0</td>\n",
       "      <td>2.1422</td>\n",
       "      <td>125000.0</td>\n",
       "      <td>&lt;1H OCEAN</td>\n",
       "    </tr>\n",
       "    <tr>\n",
       "      <th>13263</th>\n",
       "      <td>-117.66</td>\n",
       "      <td>34.10</td>\n",
       "      <td>37.0</td>\n",
       "      <td>1971.0</td>\n",
       "      <td>345.0</td>\n",
       "      <td>939.0</td>\n",
       "      <td>358.0</td>\n",
       "      <td>3.4634</td>\n",
       "      <td>145300.0</td>\n",
       "      <td>INLAND</td>\n",
       "    </tr>\n",
       "  </tbody>\n",
       "</table>\n",
       "</div>"
      ],
      "text/plain": [
       "       longitude  latitude  housing_median_age  total_rooms  total_bedrooms  \\\n",
       "13179    -117.76     33.98                 3.0       9662.0          1385.0   \n",
       "6862     -118.14     34.06                27.0       5257.0          1082.0   \n",
       "8802     -118.38     33.79                32.0      10445.0          1620.0   \n",
       "1439     -122.01     37.97                32.0       3012.0           527.0   \n",
       "4934     -118.27     34.00                40.0       2099.0           599.0   \n",
       "6788     -118.15     34.09                52.0       2203.0           430.0   \n",
       "16990    -122.27     37.55                15.0       1958.0           282.0   \n",
       "20358    -118.95     34.18                25.0       2237.0           331.0   \n",
       "15079    -116.97     32.81                19.0       1573.0           471.0   \n",
       "13263    -117.66     34.10                37.0       1971.0           345.0   \n",
       "\n",
       "       population  households  median_income  median_house_value  \\\n",
       "13179      2497.0       856.0         6.7172            292400.0   \n",
       "6862       3496.0      1036.0         3.3906            237200.0   \n",
       "8802       4474.0      1576.0         7.7042            500001.0   \n",
       "1439       1288.0       512.0         3.6449            211500.0   \n",
       "4934       2311.0       529.0         1.8520            101500.0   \n",
       "6788       1238.0       403.0         4.4306            225800.0   \n",
       "16990       811.0       284.0         8.1221            483300.0   \n",
       "20358      1121.0       365.0         6.0994            254900.0   \n",
       "15079       844.0       414.0         2.1422            125000.0   \n",
       "13263       939.0       358.0         3.4634            145300.0   \n",
       "\n",
       "      ocean_proximity  \n",
       "13179       <1H OCEAN  \n",
       "6862        <1H OCEAN  \n",
       "8802       NEAR OCEAN  \n",
       "1439         NEAR BAY  \n",
       "4934        <1H OCEAN  \n",
       "6788        <1H OCEAN  \n",
       "16990        NEAR BAY  \n",
       "20358       <1H OCEAN  \n",
       "15079       <1H OCEAN  \n",
       "13263          INLAND  "
      ]
     },
     "execution_count": 6,
     "metadata": {},
     "output_type": "execute_result"
    }
   ],
   "source": [
    "path = r\"C:\\Users\\HP\\Desktop\\Untitled Folder 3\\housing.csv\"\n",
    "df = pd.read_csv(path)\n",
    "df.sample(10)"
   ]
  },
  {
   "cell_type": "code",
   "execution_count": 10,
   "id": "8b6993d5",
   "metadata": {},
   "outputs": [
    {
     "data": {
      "image/png": "[encoded data removed]",
      "text/plain": [
       "<Figure size 1000x600 with 1 Axes>"
      ]
     },
     "metadata": {},
     "output_type": "display_data"
    }
   ],
   "source": [
    "plt.hist(df.median_income, bins=20, rwidth=0.8)\n",
    "plt.xlabel(\"median_income\")\n",
    "plt.ylabel(\"count\")\n",
    "plt.show()\n"
   ]
  },
  {
   "cell_type": "code",
   "execution_count": 11,
   "id": "dc741827",
   "metadata": {},
   "outputs": [
    {
     "data": {
      "text/plain": [
       "0.4999"
      ]
     },
     "execution_count": 11,
     "metadata": {},
     "output_type": "execute_result"
    }
   ],
   "source": [
    "df.median_income.min()"
   ]
  },
  {
   "cell_type": "code",
   "execution_count": 12,
   "id": "94c434e2",
   "metadata": {},
   "outputs": [
    {
     "data": {
      "text/plain": [
       "15.0001"
      ]
     },
     "execution_count": 12,
     "metadata": {},
     "output_type": "execute_result"
    }
   ],
   "source": [
    "df.median_income.max()"
   ]
  },
  {
   "cell_type": "code",
   "execution_count": 17,
   "id": "37182621",
   "metadata": {},
   "outputs": [
    {
     "data": {
      "text/plain": [
       "[<matplotlib.lines.Line2D at 0x19245b26e80>]"
      ]
     },
     "execution_count": 17,
     "metadata": {},
     "output_type": "execute_result"
    },
    {
     "data": {
      "image/png": "[encoded data removed]",
      "text/plain": [
       "<Figure size 1000x600 with 1 Axes>"
      ]
     },
     "metadata": {},
     "output_type": "display_data"
    }
   ],
   "source": [
    "from scipy.stats import norm\n",
    "import numpy as np\n",
    "plt.hist(df.median_income, bins=20, rwidth=0.8, density = True)\n",
    "plt.xlabel(\"median_income\")\n",
    "plt.ylabel(\"count\")\n",
    "\n",
    "rng= np.arange(df.median_income.min(), df.median_income.max(), 0.1)\n",
    "plt.plot(rng, norm.pdf(rng,df.median_income.mean(), df.median_income.std()))\n"
   ]
  },
  {
   "cell_type": "code",
   "execution_count": 18,
   "id": "95e6c7ef",
   "metadata": {},
   "outputs": [
    {
     "data": {
      "text/plain": [
       "1.8998217179452732"
      ]
     },
     "execution_count": 18,
     "metadata": {},
     "output_type": "execute_result"
    }
   ],
   "source": [
    "df.median_income.std()"
   ]
  },
  {
   "cell_type": "code",
   "execution_count": 19,
   "id": "09ccb8d7",
   "metadata": {},
   "outputs": [
    {
     "data": {
      "text/plain": [
       "3.8706710029070246"
      ]
     },
     "execution_count": 19,
     "metadata": {},
     "output_type": "execute_result"
    }
   ],
   "source": [
    "df.median_income.mean()"
   ]
  },
  {
   "cell_type": "markdown",
   "id": "0588efe3",
   "metadata": {},
   "source": [
    "upper_limit = df.median_income.mean() - 3*df.median_income()"
   ]
  },
  {
   "cell_type": "code",
   "execution_count": 26,
   "id": "33523103",
   "metadata": {},
   "outputs": [
    {
     "data": {
      "text/plain": [
       "7.670314438797571"
      ]
     },
     "execution_count": 26,
     "metadata": {},
     "output_type": "execute_result"
    }
   ],
   "source": [
    "upper_limit = df.median_income.mean() + 2*df.median_income.std()\n",
    "upper_limit"
   ]
  },
  {
   "cell_type": "code",
   "execution_count": 27,
   "id": "c12e2f8b",
   "metadata": {},
   "outputs": [
    {
     "data": {
      "text/plain": [
       "0.07102756701647817"
      ]
     },
     "execution_count": 27,
     "metadata": {},
     "output_type": "execute_result"
    }
   ],
   "source": [
    "lower_limit = df.median_income.mean() - 2*df.median_income.std()\n",
    "lower_limit"
   ]
  },
  {
   "cell_type": "code",
   "execution_count": 28,
   "id": "4de6a7e3",
   "metadata": {},
   "outputs": [
    {
     "data": {
      "text/html": [
       "<div>\n",
       "<style scoped>\n",
       "    .dataframe tbody tr th:only-of-type {\n",
       "        vertical-align: middle;\n",
       "    }\n",
       "\n",
       "    .dataframe tbody tr th {\n",
       "        vertical-align: top;\n",
       "    }\n",
       "\n",
       "    .dataframe thead th {\n",
       "        text-align: right;\n",
       "    }\n",
       "</style>\n",
       "<table border=\"1\" class=\"dataframe\">\n",
       "  <thead>\n",
       "    <tr style=\"text-align: right;\">\n",
       "      <th></th>\n",
       "      <th>longitude</th>\n",
       "      <th>latitude</th>\n",
       "      <th>housing_median_age</th>\n",
       "      <th>total_rooms</th>\n",
       "      <th>total_bedrooms</th>\n",
       "      <th>population</th>\n",
       "      <th>households</th>\n",
       "      <th>median_income</th>\n",
       "      <th>median_house_value</th>\n",
       "      <th>ocean_proximity</th>\n",
       "    </tr>\n",
       "  </thead>\n",
       "  <tbody>\n",
       "    <tr>\n",
       "      <th>0</th>\n",
       "      <td>-122.23</td>\n",
       "      <td>37.88</td>\n",
       "      <td>41.0</td>\n",
       "      <td>880.0</td>\n",
       "      <td>129.0</td>\n",
       "      <td>322.0</td>\n",
       "      <td>126.0</td>\n",
       "      <td>8.3252</td>\n",
       "      <td>452600.0</td>\n",
       "      <td>NEAR BAY</td>\n",
       "    </tr>\n",
       "    <tr>\n",
       "      <th>1</th>\n",
       "      <td>-122.22</td>\n",
       "      <td>37.86</td>\n",
       "      <td>21.0</td>\n",
       "      <td>7099.0</td>\n",
       "      <td>1106.0</td>\n",
       "      <td>2401.0</td>\n",
       "      <td>1138.0</td>\n",
       "      <td>8.3014</td>\n",
       "      <td>358500.0</td>\n",
       "      <td>NEAR BAY</td>\n",
       "    </tr>\n",
       "    <tr>\n",
       "      <th>131</th>\n",
       "      <td>-122.19</td>\n",
       "      <td>37.84</td>\n",
       "      <td>18.0</td>\n",
       "      <td>1617.0</td>\n",
       "      <td>210.0</td>\n",
       "      <td>533.0</td>\n",
       "      <td>194.0</td>\n",
       "      <td>11.6017</td>\n",
       "      <td>392600.0</td>\n",
       "      <td>NEAR BAY</td>\n",
       "    </tr>\n",
       "    <tr>\n",
       "      <th>134</th>\n",
       "      <td>-122.19</td>\n",
       "      <td>37.83</td>\n",
       "      <td>28.0</td>\n",
       "      <td>1326.0</td>\n",
       "      <td>184.0</td>\n",
       "      <td>463.0</td>\n",
       "      <td>190.0</td>\n",
       "      <td>8.2049</td>\n",
       "      <td>335200.0</td>\n",
       "      <td>NEAR BAY</td>\n",
       "    </tr>\n",
       "    <tr>\n",
       "      <th>135</th>\n",
       "      <td>-122.20</td>\n",
       "      <td>37.83</td>\n",
       "      <td>26.0</td>\n",
       "      <td>1589.0</td>\n",
       "      <td>223.0</td>\n",
       "      <td>542.0</td>\n",
       "      <td>211.0</td>\n",
       "      <td>8.4010</td>\n",
       "      <td>351200.0</td>\n",
       "      <td>NEAR BAY</td>\n",
       "    </tr>\n",
       "    <tr>\n",
       "      <th>...</th>\n",
       "      <td>...</td>\n",
       "      <td>...</td>\n",
       "      <td>...</td>\n",
       "      <td>...</td>\n",
       "      <td>...</td>\n",
       "      <td>...</td>\n",
       "      <td>...</td>\n",
       "      <td>...</td>\n",
       "      <td>...</td>\n",
       "      <td>...</td>\n",
       "    </tr>\n",
       "    <tr>\n",
       "      <th>20428</th>\n",
       "      <td>-118.83</td>\n",
       "      <td>34.23</td>\n",
       "      <td>6.0</td>\n",
       "      <td>8803.0</td>\n",
       "      <td>1114.0</td>\n",
       "      <td>3385.0</td>\n",
       "      <td>1010.0</td>\n",
       "      <td>8.7288</td>\n",
       "      <td>425800.0</td>\n",
       "      <td>&lt;1H OCEAN</td>\n",
       "    </tr>\n",
       "    <tr>\n",
       "      <th>20436</th>\n",
       "      <td>-118.69</td>\n",
       "      <td>34.21</td>\n",
       "      <td>10.0</td>\n",
       "      <td>3663.0</td>\n",
       "      <td>409.0</td>\n",
       "      <td>1179.0</td>\n",
       "      <td>371.0</td>\n",
       "      <td>12.5420</td>\n",
       "      <td>500001.0</td>\n",
       "      <td>&lt;1H OCEAN</td>\n",
       "    </tr>\n",
       "    <tr>\n",
       "      <th>20442</th>\n",
       "      <td>-118.78</td>\n",
       "      <td>34.25</td>\n",
       "      <td>13.0</td>\n",
       "      <td>1841.0</td>\n",
       "      <td>237.0</td>\n",
       "      <td>833.0</td>\n",
       "      <td>231.0</td>\n",
       "      <td>7.7785</td>\n",
       "      <td>404700.0</td>\n",
       "      <td>&lt;1H OCEAN</td>\n",
       "    </tr>\n",
       "    <tr>\n",
       "      <th>20487</th>\n",
       "      <td>-118.67</td>\n",
       "      <td>34.30</td>\n",
       "      <td>5.0</td>\n",
       "      <td>6123.0</td>\n",
       "      <td>825.0</td>\n",
       "      <td>2440.0</td>\n",
       "      <td>736.0</td>\n",
       "      <td>7.9013</td>\n",
       "      <td>393000.0</td>\n",
       "      <td>&lt;1H OCEAN</td>\n",
       "    </tr>\n",
       "    <tr>\n",
       "      <th>20503</th>\n",
       "      <td>-118.75</td>\n",
       "      <td>34.33</td>\n",
       "      <td>27.0</td>\n",
       "      <td>534.0</td>\n",
       "      <td>85.0</td>\n",
       "      <td>243.0</td>\n",
       "      <td>77.0</td>\n",
       "      <td>8.2787</td>\n",
       "      <td>330000.0</td>\n",
       "      <td>&lt;1H OCEAN</td>\n",
       "    </tr>\n",
       "  </tbody>\n",
       "</table>\n",
       "<p>851 rows × 10 columns</p>\n",
       "</div>"
      ],
      "text/plain": [
       "       longitude  latitude  housing_median_age  total_rooms  total_bedrooms  \\\n",
       "0        -122.23     37.88                41.0        880.0           129.0   \n",
       "1        -122.22     37.86                21.0       7099.0          1106.0   \n",
       "131      -122.19     37.84                18.0       1617.0           210.0   \n",
       "134      -122.19     37.83                28.0       1326.0           184.0   \n",
       "135      -122.20     37.83                26.0       1589.0           223.0   \n",
       "...          ...       ...                 ...          ...             ...   \n",
       "20428    -118.83     34.23                 6.0       8803.0          1114.0   \n",
       "20436    -118.69     34.21                10.0       3663.0           409.0   \n",
       "20442    -118.78     34.25                13.0       1841.0           237.0   \n",
       "20487    -118.67     34.30                 5.0       6123.0           825.0   \n",
       "20503    -118.75     34.33                27.0        534.0            85.0   \n",
       "\n",
       "       population  households  median_income  median_house_value  \\\n",
       "0           322.0       126.0         8.3252            452600.0   \n",
       "1          2401.0      1138.0         8.3014            358500.0   \n",
       "131         533.0       194.0        11.6017            392600.0   \n",
       "134         463.0       190.0         8.2049            335200.0   \n",
       "135         542.0       211.0         8.4010            351200.0   \n",
       "...           ...         ...            ...                 ...   \n",
       "20428      3385.0      1010.0         8.7288            425800.0   \n",
       "20436      1179.0       371.0        12.5420            500001.0   \n",
       "20442       833.0       231.0         7.7785            404700.0   \n",
       "20487      2440.0       736.0         7.9013            393000.0   \n",
       "20503       243.0        77.0         8.2787            330000.0   \n",
       "\n",
       "      ocean_proximity  \n",
       "0            NEAR BAY  \n",
       "1            NEAR BAY  \n",
       "131          NEAR BAY  \n",
       "134          NEAR BAY  \n",
       "135          NEAR BAY  \n",
       "...               ...  \n",
       "20428       <1H OCEAN  \n",
       "20436       <1H OCEAN  \n",
       "20442       <1H OCEAN  \n",
       "20487       <1H OCEAN  \n",
       "20503       <1H OCEAN  \n",
       "\n",
       "[851 rows x 10 columns]"
      ]
     },
     "execution_count": 28,
     "metadata": {},
     "output_type": "execute_result"
    }
   ],
   "source": [
    "df[(df.median_income>upper_limit)]"
   ]
  },
  {
   "cell_type": "code",
   "execution_count": 30,
   "id": "c55e90a9",
   "metadata": {},
   "outputs": [
    {
     "data": {
      "text/html": [
       "<div>\n",
       "<style scoped>\n",
       "    .dataframe tbody tr th:only-of-type {\n",
       "        vertical-align: middle;\n",
       "    }\n",
       "\n",
       "    .dataframe tbody tr th {\n",
       "        vertical-align: top;\n",
       "    }\n",
       "\n",
       "    .dataframe thead th {\n",
       "        text-align: right;\n",
       "    }\n",
       "</style>\n",
       "<table border=\"1\" class=\"dataframe\">\n",
       "  <thead>\n",
       "    <tr style=\"text-align: right;\">\n",
       "      <th></th>\n",
       "      <th>longitude</th>\n",
       "      <th>latitude</th>\n",
       "      <th>housing_median_age</th>\n",
       "      <th>total_rooms</th>\n",
       "      <th>total_bedrooms</th>\n",
       "      <th>population</th>\n",
       "      <th>households</th>\n",
       "      <th>median_income</th>\n",
       "      <th>median_house_value</th>\n",
       "      <th>ocean_proximity</th>\n",
       "    </tr>\n",
       "  </thead>\n",
       "  <tbody>\n",
       "  </tbody>\n",
       "</table>\n",
       "</div>"
      ],
      "text/plain": [
       "Empty DataFrame\n",
       "Columns: [longitude, latitude, housing_median_age, total_rooms, total_bedrooms, population, households, median_income, median_house_value, ocean_proximity]\n",
       "Index: []"
      ]
     },
     "execution_count": 30,
     "metadata": {},
     "output_type": "execute_result"
    }
   ],
   "source": [
    "df[(df.median_income<lower_limit)]"
   ]
  },
  {
   "cell_type": "code",
   "execution_count": 41,
   "id": "ff113913",
   "metadata": {},
   "outputs": [],
   "source": [
    "df2 = df[(df.median_income<upper_limit) & (df.median_income>lower_limit)]"
   ]
  },
  {
   "cell_type": "code",
   "execution_count": 40,
   "id": "434ad0a7",
   "metadata": {},
   "outputs": [
    {
     "data": {
      "text/plain": [
       "19789"
      ]
     },
     "execution_count": 40,
     "metadata": {},
     "output_type": "execute_result"
    }
   ],
   "source": [
    "df2.shape[0]"
   ]
  },
  {
   "cell_type": "code",
   "execution_count": null,
   "id": "23b28af7",
   "metadata": {},
   "outputs": [],
   "source": []
  }
 ],
 "metadata": {
  "kernelspec": {
   "display_name": "Python 3 (ipykernel)",
   "language": "python",
   "name": "python3"
  },
  "language_info": {
   "codemirror_mode": {
    "name": "ipython",
    "version": 3
   },
   "file_extension": ".py",
   "mimetype": "text/x-python",
   "name": "python",
   "nbconvert_exporter": "python",
   "pygments_lexer": "ipython3",
   "version": "3.9.13"
  }
 },
 "nbformat": 4,
 "nbformat_minor": 5
}
